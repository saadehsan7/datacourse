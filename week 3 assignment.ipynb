number1=int(input ("enter number 1"))
number2= int(input ("enter number 2"))
def numb(test1,test2):
    print("""select a if you want to add 
    "b if you want to subtract,
    "c if you want to divide
    "d if you want to multiply
    "e if you want to square""")
    select=input("select the operation you would like to perform")
    print(select)
    if select=="a":
        add=number1+number2
        print(add)
    elif select=="b":
        subtr=number1-number2
        print(subtr)
        print("i am here")
    elif select=="c":
        divi=number1/number2
        print(divi)
    elif select=="d":
        multip=number1*number2
        print(multip)
    else:
        answere=number1**number2
        print(answere)
        print("here")
numb(number1,number2)