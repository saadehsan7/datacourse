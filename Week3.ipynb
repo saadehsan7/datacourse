{
  "nbformat": 4,
  "nbformat_minor": 0,
  "metadata": {
    "colab": {
      "name": "Week3.ipynb",
      "provenance": [],
      "authorship_tag": "ABX9TyMH/mN0vdGpA5L49Qyp6S+d",
      "include_colab_link": true
    },
    "kernelspec": {
      "name": "python3",
      "display_name": "Python 3"
    },
    "language_info": {
      "name": "python"
    }
  },
  "cells": [
    {
      "cell_type": "markdown",
      "metadata": {
        "id": "view-in-github",
        "colab_type": "text"
      },
      "source": [
        "<a href=\"https://colab.research.google.com/github/saadehsan7/datacourse/blob/main/Week3.ipynb\" target=\"_parent\"><img src=\"https://colab.research.google.com/assets/colab-badge.svg\" alt=\"Open In Colab\"/></a>"
      ]
    },
    {
      "cell_type": "code",
      "execution_count": 1,
      "metadata": {
        "colab": {
          "base_uri": "https://localhost:8080/"
        },
        "id": "s1JbXGIwj_OJ",
        "outputId": "b61c61bb-8dce-401e-ff70-95d623e72d9c"
      },
      "outputs": [
        {
          "output_type": "stream",
          "name": "stdout",
          "text": [
            "1800.0\n",
            "1620.0\n",
            "1458.0\n",
            "1312.2\n",
            "1180.98\n",
            "1062.882\n",
            "956.5938000000001\n"
          ]
        }
      ],
      "source": [
        "def bike(cost, loss):\n",
        "    # lossvalue= (cost*loss)/100\n",
        "    while cost>=1000:\n",
        "        cost=cost - (cost*loss)/100\n",
        "        print (cost)\n",
        "\n",
        "bike(2000,10)\n"
      ]
    },
    {
      "cell_type": "code",
      "source": [
        "number1=int(input (\"enter number 1 \"))\n",
        "number2= int(input (\"enter number 2 \"))\n",
        "def numb(test1,number2):\n",
        "    print(\"\"\"select a if you want to add \n",
        "    \"b if you want to subtract,\n",
        "    \"c if you want to divide\n",
        "    \"d if you want to multiply\n",
        "    \"e if you want to square\"\"\")\n",
        "    select=input(\"select the operation you would like to perform\")\n",
        "    print(select)\n",
        "    if select==\"a\":\n",
        "        add=number1+number2\n",
        "        print(add)\n",
        "    elif select==\"b\":\n",
        "        subtr=number1-number2\n",
        "        print(subtr)\n",
        "        print(\"i am here\")\n",
        "    elif select==\"c\":\n",
        "        divi=number1/number2\n",
        "        print(divi)\n",
        "    elif select==\"d\":\n",
        "        multip=number1*number2\n",
        "        print(multip)\n",
        "    else:\n",
        "        answere=number1**number2\n",
        "        print(answere)\n",
        "        print(\"here\")\n",
        "numb(number1,number2)"
      ],
      "metadata": {
        "colab": {
          "base_uri": "https://localhost:8080/"
        },
        "id": "GZ84x37mkED3",
        "outputId": "04348922-df1e-496e-dab7-6b16ed0137c0"
      },
      "execution_count": 4,
      "outputs": [
        {
          "output_type": "stream",
          "name": "stdout",
          "text": [
            "enter number 1 1\n",
            "enter number 2 2\n",
            "select a if you want to add \n",
            "    \"b if you want to subtract,\n",
            "    \"c if you want to divide\n",
            "    \"d if you want to multiply\n",
            "    \"e if you want to square\n",
            "select the operation you would like to performa\n",
            "a\n",
            "3\n"
          ]
        }
      ]
    }
  ]
}