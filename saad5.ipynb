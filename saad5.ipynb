{
 "cells": [
  {
   "cell_type": "code",
   "execution_count": 1,
   "metadata": {},
   "outputs": [
    {
     "data": {
      "text/html": [
       "<div>\n",
       "<style scoped>\n",
       "    .dataframe tbody tr th:only-of-type {\n",
       "        vertical-align: middle;\n",
       "    }\n",
       "\n",
       "    .dataframe tbody tr th {\n",
       "        vertical-align: top;\n",
       "    }\n",
       "\n",
       "    .dataframe thead th {\n",
       "        text-align: right;\n",
       "    }\n",
       "</style>\n",
       "<table border=\"1\" class=\"dataframe\">\n",
       "  <thead>\n",
       "    <tr style=\"text-align: right;\">\n",
       "      <th></th>\n",
       "      <th>Destinations</th>\n",
       "      <th>Rating</th>\n",
       "      <th>Hotel stars</th>\n",
       "      <th>All inclusive hotels</th>\n",
       "      <th>Cities</th>\n",
       "    </tr>\n",
       "  </thead>\n",
       "  <tbody>\n",
       "    <tr>\n",
       "      <th>0</th>\n",
       "      <td>Turkey</td>\n",
       "      <td>7.0</td>\n",
       "      <td>3</td>\n",
       "      <td>613</td>\n",
       "      <td>Istanbul</td>\n",
       "    </tr>\n",
       "    <tr>\n",
       "      <th>1</th>\n",
       "      <td>UAE</td>\n",
       "      <td>4.0</td>\n",
       "      <td>4</td>\n",
       "      <td>113</td>\n",
       "      <td>Dubai</td>\n",
       "    </tr>\n",
       "    <tr>\n",
       "      <th>2</th>\n",
       "      <td>South Africa</td>\n",
       "      <td>9.0</td>\n",
       "      <td>2</td>\n",
       "      <td>2186</td>\n",
       "      <td>Cape Town</td>\n",
       "    </tr>\n",
       "    <tr>\n",
       "      <th>3</th>\n",
       "      <td>France</td>\n",
       "      <td>5.0</td>\n",
       "      <td>3</td>\n",
       "      <td>2586</td>\n",
       "      <td>Nice</td>\n",
       "    </tr>\n",
       "    <tr>\n",
       "      <th>4</th>\n",
       "      <td>Pakistan</td>\n",
       "      <td>10.0</td>\n",
       "      <td>4</td>\n",
       "      <td>2968</td>\n",
       "      <td>Lahore</td>\n",
       "    </tr>\n",
       "  </tbody>\n",
       "</table>\n",
       "</div>"
      ],
      "text/plain": [
       "   Destinations  Rating  Hotel stars  All inclusive hotels     Cities\n",
       "0        Turkey     7.0            3                   613   Istanbul\n",
       "1           UAE     4.0            4                   113      Dubai\n",
       "2  South Africa     9.0            2                  2186  Cape Town\n",
       "3        France     5.0            3                  2586       Nice\n",
       "4      Pakistan    10.0            4                  2968     Lahore"
      ]
     },
     "execution_count": 1,
     "metadata": {},
     "output_type": "execute_result"
    }
   ],
   "source": [
    "import pandas as pd\n",
    "import numpy as np\n",
    "holiday=pd.read_csv(\"D:\\\\dataAcademy\\\\holiday.csv\")\n",
    "holiday.head()"
   ]
  },
  {
   "cell_type": "markdown",
   "metadata": {},
   "source": [
    "How many rows and columns are there in your file?"
   ]
  },
  {
   "cell_type": "code",
   "execution_count": 9,
   "metadata": {},
   "outputs": [
    {
     "name": "stdout",
     "output_type": "stream",
     "text": [
      "<class 'pandas.core.frame.DataFrame'>\n",
      "RangeIndex: 15 entries, 0 to 14\n",
      "Data columns (total 5 columns):\n",
      " #   Column                Non-Null Count  Dtype  \n",
      "---  ------                --------------  -----  \n",
      " 0   Destinations          15 non-null     object \n",
      " 1   Rating                15 non-null     float64\n",
      " 2   Hotel stars           15 non-null     int64  \n",
      " 3   All inclusive hotels  15 non-null     int64  \n",
      " 4   Cities                15 non-null     object \n",
      "dtypes: float64(1), int64(2), object(2)\n",
      "memory usage: 728.0+ bytes\n"
     ]
    },
    {
     "data": {
      "text/plain": [
       "Destinations            15\n",
       "Rating                  15\n",
       "Hotel stars             15\n",
       "All inclusive hotels    15\n",
       "Cities                  15\n",
       "dtype: int64"
      ]
     },
     "execution_count": 9,
     "metadata": {},
     "output_type": "execute_result"
    }
   ],
   "source": [
    "#holiday.shape[0]\n",
    "holiday.info()\n",
    "holiday.count()\n",
    "#holiday.size"
   ]
  },
  {
   "cell_type": "markdown",
   "metadata": {},
   "source": [
    "Print row 3-8 ( using iloc/loc)."
   ]
  },
  {
   "cell_type": "code",
   "execution_count": 10,
   "metadata": {},
   "outputs": [
    {
     "data": {
      "text/html": [
       "<div>\n",
       "<style scoped>\n",
       "    .dataframe tbody tr th:only-of-type {\n",
       "        vertical-align: middle;\n",
       "    }\n",
       "\n",
       "    .dataframe tbody tr th {\n",
       "        vertical-align: top;\n",
       "    }\n",
       "\n",
       "    .dataframe thead th {\n",
       "        text-align: right;\n",
       "    }\n",
       "</style>\n",
       "<table border=\"1\" class=\"dataframe\">\n",
       "  <thead>\n",
       "    <tr style=\"text-align: right;\">\n",
       "      <th></th>\n",
       "      <th>Destinations</th>\n",
       "      <th>Rating</th>\n",
       "      <th>Hotel stars</th>\n",
       "      <th>All inclusive hotels</th>\n",
       "      <th>Cities</th>\n",
       "    </tr>\n",
       "  </thead>\n",
       "  <tbody>\n",
       "    <tr>\n",
       "      <th>3</th>\n",
       "      <td>France</td>\n",
       "      <td>5.0</td>\n",
       "      <td>3</td>\n",
       "      <td>2586</td>\n",
       "      <td>Nice</td>\n",
       "    </tr>\n",
       "    <tr>\n",
       "      <th>4</th>\n",
       "      <td>Pakistan</td>\n",
       "      <td>10.0</td>\n",
       "      <td>4</td>\n",
       "      <td>2968</td>\n",
       "      <td>Lahore</td>\n",
       "    </tr>\n",
       "    <tr>\n",
       "      <th>5</th>\n",
       "      <td>Spain</td>\n",
       "      <td>4.0</td>\n",
       "      <td>4</td>\n",
       "      <td>846</td>\n",
       "      <td>Barcelona</td>\n",
       "    </tr>\n",
       "    <tr>\n",
       "      <th>6</th>\n",
       "      <td>Greece</td>\n",
       "      <td>1.0</td>\n",
       "      <td>1</td>\n",
       "      <td>700</td>\n",
       "      <td>Santorini</td>\n",
       "    </tr>\n",
       "    <tr>\n",
       "      <th>7</th>\n",
       "      <td>Austria</td>\n",
       "      <td>8.5</td>\n",
       "      <td>5</td>\n",
       "      <td>578</td>\n",
       "      <td>Vienna</td>\n",
       "    </tr>\n",
       "  </tbody>\n",
       "</table>\n",
       "</div>"
      ],
      "text/plain": [
       "  Destinations  Rating  Hotel stars  All inclusive hotels     Cities\n",
       "3       France     5.0            3                  2586       Nice\n",
       "4     Pakistan    10.0            4                  2968     Lahore\n",
       "5        Spain     4.0            4                   846  Barcelona\n",
       "6       Greece     1.0            1                   700  Santorini\n",
       "7      Austria     8.5            5                   578     Vienna"
      ]
     },
     "execution_count": 10,
     "metadata": {},
     "output_type": "execute_result"
    }
   ],
   "source": [
    "holiday.iloc[3:8]"
   ]
  },
  {
   "cell_type": "markdown",
   "metadata": {},
   "source": [
    "Find the mean number of all-inclusive hotels across all destinations."
   ]
  },
  {
   "cell_type": "code",
   "execution_count": 16,
   "metadata": {},
   "outputs": [
    {
     "name": "stdout",
     "output_type": "stream",
     "text": [
      "Rating                     6.033333\n",
      "Hotel stars                3.400000\n",
      "All inclusive hotels    1353.333333\n",
      "dtype: float64\n",
      "the maean is 1353.3333333333333\n"
     ]
    },
    {
     "name": "stderr",
     "output_type": "stream",
     "text": [
      "C:\\Users\\a\\AppData\\Local\\Temp\\ipykernel_12876\\2310969235.py:1: FutureWarning: Dropping of nuisance columns in DataFrame reductions (with 'numeric_only=None') is deprecated; in a future version this will raise TypeError.  Select only valid columns before calling the reduction.\n",
      "  allnumber=holiday.mean()\n"
     ]
    }
   ],
   "source": [
    "allnumber=holiday.mean()\n",
    "print(allnumber)\n",
    "specific= holiday[\"All inclusive hotels\"].mean()\n",
    "print (\"the maean is\", +specific)"
   ]
  },
  {
   "cell_type": "markdown",
   "metadata": {},
   "source": [
    "Find the lowest scoring destination.\n",
    "Find the highest scoring destination"
   ]
  },
  {
   "cell_type": "code",
   "execution_count": 23,
   "metadata": {},
   "outputs": [
    {
     "name": "stdout",
     "output_type": "stream",
     "text": [
      "the minimum is 1.00 while the maximum is 10.00\n"
     ]
    }
   ],
   "source": [
    "min=holiday[\"Rating\"].min()\n",
    "max=holiday[\"Rating\"].max()\n",
    "print(f\"the minimum is {min:.2f} while the maximum is {max:.2f}\")"
   ]
  },
  {
   "cell_type": "markdown",
   "metadata": {},
   "source": [
    "Find all the destinations where there are more than 9 all-inclusive hotels. "
   ]
  },
  {
   "cell_type": "code",
   "execution_count": 28,
   "metadata": {},
   "outputs": [
    {
     "data": {
      "text/html": [
       "<div>\n",
       "<style scoped>\n",
       "    .dataframe tbody tr th:only-of-type {\n",
       "        vertical-align: middle;\n",
       "    }\n",
       "\n",
       "    .dataframe tbody tr th {\n",
       "        vertical-align: top;\n",
       "    }\n",
       "\n",
       "    .dataframe thead th {\n",
       "        text-align: right;\n",
       "    }\n",
       "</style>\n",
       "<table border=\"1\" class=\"dataframe\">\n",
       "  <thead>\n",
       "    <tr style=\"text-align: right;\">\n",
       "      <th></th>\n",
       "      <th>Destinations</th>\n",
       "      <th>Rating</th>\n",
       "      <th>Hotel stars</th>\n",
       "      <th>All inclusive hotels</th>\n",
       "      <th>Cities</th>\n",
       "    </tr>\n",
       "  </thead>\n",
       "  <tbody>\n",
       "    <tr>\n",
       "      <th>0</th>\n",
       "      <td>Turkey</td>\n",
       "      <td>7.0</td>\n",
       "      <td>3</td>\n",
       "      <td>613</td>\n",
       "      <td>Istanbul</td>\n",
       "    </tr>\n",
       "    <tr>\n",
       "      <th>1</th>\n",
       "      <td>UAE</td>\n",
       "      <td>4.0</td>\n",
       "      <td>4</td>\n",
       "      <td>113</td>\n",
       "      <td>Dubai</td>\n",
       "    </tr>\n",
       "    <tr>\n",
       "      <th>2</th>\n",
       "      <td>South Africa</td>\n",
       "      <td>9.0</td>\n",
       "      <td>2</td>\n",
       "      <td>2186</td>\n",
       "      <td>Cape Town</td>\n",
       "    </tr>\n",
       "    <tr>\n",
       "      <th>3</th>\n",
       "      <td>France</td>\n",
       "      <td>5.0</td>\n",
       "      <td>3</td>\n",
       "      <td>2586</td>\n",
       "      <td>Nice</td>\n",
       "    </tr>\n",
       "    <tr>\n",
       "      <th>4</th>\n",
       "      <td>Pakistan</td>\n",
       "      <td>10.0</td>\n",
       "      <td>4</td>\n",
       "      <td>2968</td>\n",
       "      <td>Lahore</td>\n",
       "    </tr>\n",
       "    <tr>\n",
       "      <th>5</th>\n",
       "      <td>Spain</td>\n",
       "      <td>4.0</td>\n",
       "      <td>4</td>\n",
       "      <td>846</td>\n",
       "      <td>Barcelona</td>\n",
       "    </tr>\n",
       "    <tr>\n",
       "      <th>6</th>\n",
       "      <td>Greece</td>\n",
       "      <td>1.0</td>\n",
       "      <td>1</td>\n",
       "      <td>700</td>\n",
       "      <td>Santorini</td>\n",
       "    </tr>\n",
       "    <tr>\n",
       "      <th>7</th>\n",
       "      <td>Austria</td>\n",
       "      <td>8.5</td>\n",
       "      <td>5</td>\n",
       "      <td>578</td>\n",
       "      <td>Vienna</td>\n",
       "    </tr>\n",
       "    <tr>\n",
       "      <th>8</th>\n",
       "      <td>India</td>\n",
       "      <td>9.0</td>\n",
       "      <td>4</td>\n",
       "      <td>3000</td>\n",
       "      <td>New Delhi</td>\n",
       "    </tr>\n",
       "    <tr>\n",
       "      <th>9</th>\n",
       "      <td>Japan</td>\n",
       "      <td>5.0</td>\n",
       "      <td>5</td>\n",
       "      <td>1393</td>\n",
       "      <td>Tokyo</td>\n",
       "    </tr>\n",
       "    <tr>\n",
       "      <th>10</th>\n",
       "      <td>Czech Republic</td>\n",
       "      <td>4.5</td>\n",
       "      <td>4</td>\n",
       "      <td>60</td>\n",
       "      <td>Prague</td>\n",
       "    </tr>\n",
       "    <tr>\n",
       "      <th>11</th>\n",
       "      <td>Netherlands</td>\n",
       "      <td>3.0</td>\n",
       "      <td>3</td>\n",
       "      <td>90</td>\n",
       "      <td>Amsterdam</td>\n",
       "    </tr>\n",
       "    <tr>\n",
       "      <th>12</th>\n",
       "      <td>United States</td>\n",
       "      <td>2.5</td>\n",
       "      <td>4</td>\n",
       "      <td>5000</td>\n",
       "      <td>New York</td>\n",
       "    </tr>\n",
       "    <tr>\n",
       "      <th>13</th>\n",
       "      <td>Hungary</td>\n",
       "      <td>8.0</td>\n",
       "      <td>2</td>\n",
       "      <td>117</td>\n",
       "      <td>Budapest</td>\n",
       "    </tr>\n",
       "    <tr>\n",
       "      <th>14</th>\n",
       "      <td>United Kingdom</td>\n",
       "      <td>10.0</td>\n",
       "      <td>3</td>\n",
       "      <td>50</td>\n",
       "      <td>Birmingham</td>\n",
       "    </tr>\n",
       "  </tbody>\n",
       "</table>\n",
       "</div>"
      ],
      "text/plain": [
       "      Destinations  Rating  Hotel stars  All inclusive hotels      Cities\n",
       "0           Turkey     7.0            3                   613    Istanbul\n",
       "1              UAE     4.0            4                   113       Dubai\n",
       "2     South Africa     9.0            2                  2186   Cape Town\n",
       "3           France     5.0            3                  2586        Nice\n",
       "4         Pakistan    10.0            4                  2968      Lahore\n",
       "5            Spain     4.0            4                   846   Barcelona\n",
       "6           Greece     1.0            1                   700   Santorini\n",
       "7          Austria     8.5            5                   578      Vienna\n",
       "8            India     9.0            4                  3000   New Delhi\n",
       "9            Japan     5.0            5                  1393       Tokyo\n",
       "10  Czech Republic     4.5            4                    60      Prague\n",
       "11     Netherlands     3.0            3                    90   Amsterdam\n",
       "12   United States     2.5            4                  5000    New York\n",
       "13         Hungary     8.0            2                   117    Budapest\n",
       "14  United Kingdom    10.0            3                    50  Birmingham"
      ]
     },
     "execution_count": 28,
     "metadata": {},
     "output_type": "execute_result"
    }
   ],
   "source": [
    "holiday[holiday[\"All inclusive hotels\"]>9]"
   ]
  },
  {
   "cell_type": "markdown",
   "metadata": {},
   "source": [
    "Filter the data by score above 8.  "
   ]
  },
  {
   "cell_type": "code",
   "execution_count": 31,
   "metadata": {},
   "outputs": [
    {
     "name": "stdout",
     "output_type": "stream",
     "text": [
      "      Destinations  Rating  Hotel stars  All inclusive hotels      Cities\n",
      "2     South Africa     9.0            2                  2186   Cape Town\n",
      "4         Pakistan    10.0            4                  2968      Lahore\n",
      "7          Austria     8.5            5                   578      Vienna\n",
      "8            India     9.0            4                  3000   New Delhi\n",
      "14  United Kingdom    10.0            3                    50  Birmingham\n",
      "0     False\n",
      "1     False\n",
      "2      True\n",
      "3     False\n",
      "4      True\n",
      "5     False\n",
      "6     False\n",
      "7      True\n",
      "8      True\n",
      "9     False\n",
      "10    False\n",
      "11    False\n",
      "12    False\n",
      "13    False\n",
      "14     True\n",
      "Name: Rating, dtype: bool\n"
     ]
    }
   ],
   "source": [
    "score=holiday[holiday[\"Rating\"]> 8]\n",
    "print(score)\n",
    "# if you do just, it prints out boolean\n",
    "test=holiday[\"Rating\"]> 8\n",
    "print(test)\n",
    "\n"
   ]
  },
  {
   "cell_type": "markdown",
   "metadata": {},
   "source": [
    "Filter the data score below 2 ( I need to know if these destinations should be removed or there is a problem)"
   ]
  },
  {
   "cell_type": "code",
   "execution_count": 32,
   "metadata": {},
   "outputs": [
    {
     "name": "stdout",
     "output_type": "stream",
     "text": [
      "  Destinations  Rating  Hotel stars  All inclusive hotels     Cities\n",
      "6       Greece     1.0            1                   700  Santorini\n"
     ]
    }
   ],
   "source": [
    "low=holiday[holiday[\"Rating\"]< 2]\n",
    "print(low)"
   ]
  },
  {
   "cell_type": "markdown",
   "metadata": {},
   "source": [
    "Is there a correlation between number of all-inclusive hotels and score?"
   ]
  },
  {
   "cell_type": "code",
   "execution_count": 34,
   "metadata": {},
   "outputs": [
    {
     "name": "stdout",
     "output_type": "stream",
     "text": [
      "0.03279588561612654\n"
     ]
    }
   ],
   "source": [
    "corre= holiday[\"All inclusive hotels\"].corr(holiday[\"Rating\"])\n",
    "print(corre)"
   ]
  },
  {
   "cell_type": "markdown",
   "metadata": {},
   "source": [
    "Create a data visualisation diagram to show destination and highest scores?"
   ]
  },
  {
   "cell_type": "code",
   "execution_count": null,
   "metadata": {},
   "outputs": [],
   "source": []
  }
 ],
 "metadata": {
  "interpreter": {
   "hash": "bf18297ba29ab59974e3cde921359bf4732846305eb0ebd212cf3897d725727a"
  },
  "kernelspec": {
   "display_name": "Python 3.9.10 64-bit",
   "language": "python",
   "name": "python3"
  },
  "language_info": {
   "codemirror_mode": {
    "name": "ipython",
    "version": 3
   },
   "file_extension": ".py",
   "mimetype": "text/x-python",
   "name": "python",
   "nbconvert_exporter": "python",
   "pygments_lexer": "ipython3",
   "version": "3.9.10"
  },
  "orig_nbformat": 4
 },
 "nbformat": 4,
 "nbformat_minor": 2
}
