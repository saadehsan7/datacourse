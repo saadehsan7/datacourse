{
 "cells": [
  {
   "cell_type": "code",
   "execution_count": 14,
   "metadata": {},
   "outputs": [
    {
     "name": "stdout",
     "output_type": "stream",
     "text": [
      "3\n",
      "hey saad welcome to the game\n"
     ]
    },
    {
     "ename": "ValueError",
     "evalue": "invalid literal for int() with base 10: 'saad'",
     "output_type": "error",
     "traceback": [
      "\u001b[1;31m---------------------------------------------------------------------------\u001b[0m",
      "\u001b[1;31mValueError\u001b[0m                                Traceback (most recent call last)",
      "\u001b[1;32mc:\\Users\\a\\OneDrive\\Desktop\\dataAcademy\\testrun.ipynb Cell 1'\u001b[0m in \u001b[0;36m<module>\u001b[1;34m\u001b[0m\n\u001b[0;32m      <a href='vscode-notebook-cell:/c%3A/Users/a/OneDrive/Desktop/dataAcademy/testrun.ipynb#ch0000000?line=3'>4</a>\u001b[0m username\u001b[39m=\u001b[39m\u001b[39minput\u001b[39m(\u001b[39m\"\u001b[39m\u001b[39mwhat is your name\u001b[39m\u001b[39m\"\u001b[39m)\n\u001b[0;32m      <a href='vscode-notebook-cell:/c%3A/Users/a/OneDrive/Desktop/dataAcademy/testrun.ipynb#ch0000000?line=4'>5</a>\u001b[0m \u001b[39mprint\u001b[39m(\u001b[39m\"\u001b[39m\u001b[39mhey \u001b[39m\u001b[39m\"\u001b[39m\u001b[39m+\u001b[39musername\u001b[39m+\u001b[39m \u001b[39m\"\u001b[39m\u001b[39m welcome to the game\u001b[39m\u001b[39m\"\u001b[39m)\n\u001b[1;32m----> <a href='vscode-notebook-cell:/c%3A/Users/a/OneDrive/Desktop/dataAcademy/testrun.ipynb#ch0000000?line=5'>6</a>\u001b[0m guess\u001b[39m=\u001b[39m\u001b[39mint\u001b[39;49m(\u001b[39minput\u001b[39;49m (\u001b[39m\"\u001b[39;49m\u001b[39mhello guess the number \u001b[39;49m\u001b[39m\"\u001b[39;49m \u001b[39m+\u001b[39;49m username \u001b[39m+\u001b[39;49m \u001b[39m\"\u001b[39;49m\u001b[39m hey welcome \u001b[39;49m\u001b[39m\"\u001b[39;49m))\n\u001b[0;32m      <a href='vscode-notebook-cell:/c%3A/Users/a/OneDrive/Desktop/dataAcademy/testrun.ipynb#ch0000000?line=6'>7</a>\u001b[0m \u001b[39mif\u001b[39;00m rannum\u001b[39m==\u001b[39mguess:\n\u001b[0;32m      <a href='vscode-notebook-cell:/c%3A/Users/a/OneDrive/Desktop/dataAcademy/testrun.ipynb#ch0000000?line=7'>8</a>\u001b[0m     \u001b[39mprint\u001b[39m(\u001b[39m\"\u001b[39m\u001b[39myou rock you got it corret\u001b[39m\u001b[39m\"\u001b[39m)\n",
      "\u001b[1;31mValueError\u001b[0m: invalid literal for int() with base 10: 'saad'"
     ]
    }
   ],
   "source": [
    "# answer to question 1 \n",
    "import random\n",
    "rannum= random.randint(1,10)\n",
    "print(rannum)\n",
    "username=input(\"what is your name\")\n",
    "print(\"hey \"+username+ \" welcome to the game\")\n",
    "guess=int(input (\"hello guess the number \" + username + \" between 1 and 10 \"))\n",
    "if rannum==guess:\n",
    "    print(\"you rock you got it corret\")\n",
    "else:\n",
    "    print(\"sorry better luck next time\")\n"
   ]
  },
  {
   "cell_type": "code",
   "execution_count": 10,
   "metadata": {},
   "outputs": [
    {
     "name": "stdout",
     "output_type": "stream",
     "text": [
      "Did you hear about the mathematician who’s afraid of negative numbers? He’ll stop at nothing to avoid them.\n"
     ]
    }
   ],
   "source": [
    "selnum= int(input(\"hey what is your favorite number between 1 and 100\"))\n",
    "if 1<=selnum <=30:\n",
    "    print(\"What’s the best thing about Switzerland? I don’t know, but the flag is a big plus\")\n",
    "elif 31<=selnum <=60:\n",
    "    print(\"I invented a new word! Plagiarism!\")\n",
    "else:\n",
    "    print(\"Did you hear about the mathematician who’s afraid of negative numbers? He’ll stop at nothing to avoid them.\")\n",
    "\n",
    "    "
   ]
  },
  {
   "cell_type": "code",
   "execution_count": 11,
   "metadata": {},
   "outputs": [
    {
     "name": "stdout",
     "output_type": "stream",
     "text": [
      "your favorite starter is salad your favroite main is biryani your favorite desert is ice cream with a glass of lassi that is all\n"
     ]
    }
   ],
   "source": [
    "starter=input(\"which started do you like\")\n",
    "main=input(\"what is your favorite main course\")\n",
    "desert=input(\"which desert would you like\")\n",
    "drink=input(\"which drink would you like\")\n",
    "print(\"your favorite starter is \" + starter + \" your favroite main is \" + main + \" your favorite desert is \" + desert + (\" with a glass of \") + drink + (\" that is all\"))\n"
   ]
  },
  {
   "cell_type": "code",
   "execution_count": 14,
   "metadata": {},
   "outputs": [
    {
     "name": "stdout",
     "output_type": "stream",
     "text": [
      "200.0\n",
      "1800.0\n",
      "1620.0\n",
      "1458.0\n",
      "1312.2\n",
      "1180.98\n",
      "1062.882\n",
      "956.5938000000001\n"
     ]
    }
   ],
   "source": [
    "bikecost= 2000\n",
    "loss = 10\n",
    "lossvalue= (bikecost*loss)/100\n",
    "print(lossvalue)\n",
    "nextyear=bikecost-lossvalue\n",
    "print (nextyear)\n",
    "while nextyear>=1000:\n",
    "    nextyear=nextyear - (nextyear*loss)/100\n",
    "    print(nextyear)\n"
   ]
  },
  {
   "cell_type": "code",
   "execution_count": 33,
   "metadata": {},
   "outputs": [
    {
     "name": "stdout",
     "output_type": "stream",
     "text": [
      "select a if you want to add \n",
      "\"b if you want to subtract,\n",
      "\"c if you want to divide\n",
      "\"d if you want to multiply\n",
      "\"e if you want to square\n",
      "b\n",
      "-1\n",
      "i am here\n"
     ]
    }
   ],
   "source": [
    "number1=int(input (\"enter number 1\"))\n",
    "number2= int(input (\"enter number 2\"))\n",
    "print(\"\"\"select a if you want to add \n",
    "\"b if you want to subtract,\n",
    "\"c if you want to divide\n",
    "\"d if you want to multiply\n",
    "\"e if you want to square\"\"\")\n",
    "select=input(\"select the operation you would like to perform\")\n",
    "print(select)\n",
    "if select==\"a\":\n",
    "    add=number1+number2\n",
    "    print(add)\n",
    "elif select==\"b\":\n",
    "    subtr=number1-number2\n",
    "    print(subtr)\n",
    "    print(\"i am here\")\n",
    "elif select==\"c\":\n",
    "    divi=number1/number2\n",
    "    print(divi)\n",
    "elif select==\"d\":\n",
    "    multip=number1*number2\n",
    "    print(multip)\n",
    "else:\n",
    "    answere=number1**number2\n",
    "    print(answere)\n",
    "    print(\"here\")\n",
    "    \n",
    "\n",
    "\n"
   ]
  }
 ],
 "metadata": {
  "interpreter": {
   "hash": "bf18297ba29ab59974e3cde921359bf4732846305eb0ebd212cf3897d725727a"
  },
  "kernelspec": {
   "display_name": "Python 3.9.10 64-bit",
   "language": "python",
   "name": "python3"
  },
  "language_info": {
   "codemirror_mode": {
    "name": "ipython",
    "version": 3
   },
   "file_extension": ".py",
   "mimetype": "text/x-python",
   "name": "python",
   "nbconvert_exporter": "python",
   "pygments_lexer": "ipython3",
   "version": "3.9.10"
  },
  "orig_nbformat": 4
 },
 "nbformat": 4,
 "nbformat_minor": 2
}
