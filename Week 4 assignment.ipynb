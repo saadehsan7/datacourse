{
 "cells": [
  {
   "cell_type": "code",
   "execution_count": 1,
   "metadata": {},
   "outputs": [],
   "source": [
    "my_file = open(\"numbers.txt\", \"a\")\n",
    "my_file.write(\"3, 45, 83, 21\")\n",
    "my_file.close()"
   ]
  },
  {
   "cell_type": "code",
   "execution_count": 22,
   "metadata": {},
   "outputs": [
    {
     "name": "stdout",
     "output_type": "stream",
     "text": [
      "this is grade B\n",
      "this is grade B\n",
      "<class 'str'>\n",
      "this is your targe grade A and this is your actual grade Grade B\n",
      "you are great\n"
     ]
    }
   ],
   "source": [
    "percentage=int(input(\"what is your percentage mark, select from 0 to 100\"))\n",
    "def mark_done():\n",
    "    if 90<= percentage <=100:\n",
    "        print(\"you have got an A+ grad\")\n",
    "        return \"grade A+\"\n",
    "    elif 80<= percentage <=89 :\n",
    "        print (\"this is grade A\")\n",
    "        return \"Grade A\"\n",
    "    elif 70<= percentage <=79 :\n",
    "        print (\"this is grade B\")\n",
    "        return \"Grade B\"\n",
    "    elif 60<= percentage <=69 :\n",
    "        print (\"this is grade C\")\n",
    "        return \"Grade C\"\n",
    "    elif 50<= percentage <=59 :\n",
    "        print (\"this is grade D\")\n",
    "        return \"Grade D\"\n",
    "    else:\n",
    "        print (\"this is grade F\")\n",
    "        return \"Grade F\"\n",
    "\n",
    "\n",
    "\n",
    "mark_done()\n",
    "message= mark_done()\n",
    "print(type(message))\n",
    "\n",
    "target_grade=input(\"what is your target grade\")\n",
    "print(\"this is your targe grade\", target_grade, \"and this is your actual grade\", message)\n",
    "def comparegrade():\n",
    "    if target_grade==message:\n",
    "        print(\"you have made your target grade\")\n",
    "    elif target_grade>message:\n",
    "        print(\"you are great\")\n",
    "    elif target_grade<message:\n",
    "        print(\" you have not done it\")\n",
    "\n",
    "\n",
    "comparegrade()\n",
    "\n",
    "    \n",
    "\n",
    "\n",
    "\n",
    "\n",
    "\n",
    "\n",
    "\n",
    "#target_grade=input(\"what is your target grade\")\n",
    "\n",
    "\n",
    "\n"
   ]
  },
  {
   "cell_type": "code",
   "execution_count": 26,
   "metadata": {},
   "outputs": [
    {
     "name": "stdout",
     "output_type": "stream",
     "text": [
      "[0 1 2 3 4 5 6 7 8 9]\n",
      "10\n",
      "10\n"
     ]
    }
   ],
   "source": [
    "import numpy as np\n",
    "one_array=np.arange(10)\n",
    "print(one_array)\n",
    "print(one_array.size)\n",
    "print(len(one_array))\n"
   ]
  },
  {
   "cell_type": "code",
   "execution_count": 29,
   "metadata": {},
   "outputs": [
    {
     "name": "stdout",
     "output_type": "stream",
     "text": [
      "[1. 1. 1. 1. 1. 1. 1. 1. 1.]\n",
      "[[1. 1. 1.]\n",
      " [1. 1. 1.]\n",
      " [1. 1. 1.]]\n"
     ]
    }
   ],
   "source": [
    "three_dey=np.ones(9)\n",
    "print(three_dey)\n",
    "newarray=three_dey.reshape(3,3)\n",
    "print(newarray)"
   ]
  },
  {
   "cell_type": "code",
   "execution_count": 30,
   "metadata": {},
   "outputs": [
    {
     "data": {
      "text/plain": [
       "array([1, 3, 5, 7, 9])"
      ]
     },
     "execution_count": 30,
     "metadata": {},
     "output_type": "execute_result"
    }
   ],
   "source": [
    "oneto10=np.array([1,2,3,4,5,6,7,8,9,10])\n",
    "# to find columns\n",
    "oneto10[0:9:2]"
   ]
  },
  {
   "cell_type": "code",
   "execution_count": 37,
   "metadata": {},
   "outputs": [
    {
     "name": "stdout",
     "output_type": "stream",
     "text": [
      "[-1  2 -1  4 -1  6 -1  8 -1 10]\n"
     ]
    }
   ],
   "source": [
    "oneto10=np.array([1,2,3,4,5,6,7,8,9,10])\n",
    "# to find columns\n",
    "oneto10[0:9:2]=(-1)\n",
    "print(oneto10)\n"
   ]
  },
  {
   "cell_type": "code",
   "execution_count": 39,
   "metadata": {},
   "outputs": [
    {
     "data": {
      "text/plain": [
       "array([[ 1,  2,  3,  4,  5],\n",
       "       [ 6,  7,  8,  9, 10]])"
      ]
     },
     "execution_count": 39,
     "metadata": {},
     "output_type": "execute_result"
    }
   ],
   "source": [
    "oneto10=np.array([1,2,3,4,5,6,7,8,9,10])\n",
    "oneto10.reshape(2,5)"
   ]
  },
  {
   "cell_type": "code",
   "execution_count": 69,
   "metadata": {},
   "outputs": [
    {
     "name": "stdout",
     "output_type": "stream",
     "text": [
      "[[1 2 3]\n",
      " [4 5 6]\n",
      " [7 8 9]]\n",
      "2\n",
      "[[ 7  8  9]\n",
      " [10 11 12]\n",
      " [13 14 15]]\n",
      "2\n",
      "this is dot answer\n",
      "[[ 66  72  78]\n",
      " [156 171 186]\n",
      " [246 270 294]]\n",
      "this is sum answer\n",
      "[216 513 810]\n"
     ]
    }
   ],
   "source": [
    "oneto10=np.arange(1,10).reshape(3,3)\n",
    "print(oneto10)\n",
    "print(oneto10.ndim)\n",
    "\n",
    "secondarray=np.arange(7,16).reshape(3,3)\n",
    "print(secondarray)\n",
    "print(secondarray.ndim)\n",
    "c=np.dot(oneto10,secondarray)\n",
    "print(\"this is dot answer\")\n",
    "print(c)\n",
    "\n",
    "e = np.sum(c,axis = 1)\n",
    "print(\"this is sum answer\")\n",
    "print(e)\n",
    "#\n",
    "\n"
   ]
  },
  {
   "cell_type": "code",
   "execution_count": 81,
   "metadata": {},
   "outputs": [
    {
     "name": "stdout",
     "output_type": "stream",
     "text": [
      "[1. 1. 1.]\n",
      "[2. 2. 2.]\n",
      "[3. 3. 3.]\n",
      "[[1. 1. 1.]\n",
      " [2. 2. 2.]\n",
      " [3. 3. 3.]]\n"
     ]
    }
   ],
   "source": [
    "usingone=np.ones(3)\n",
    "usingtwo=np.ones(3) *2\n",
    "usingthree=np.ones(3) *3\n",
    "print(usingone)\n",
    "print(usingtwo)\n",
    "print(usingthree)\n",
    "combine=np.array([usingone,usingtwo,usingthree])\n",
    "print(combine)"
   ]
  },
  {
   "cell_type": "code",
   "execution_count": 97,
   "metadata": {},
   "outputs": [
    {
     "name": "stdout",
     "output_type": "stream",
     "text": [
      "4\n",
      "array a= [1 2 3 4 5]\n",
      "array b= [4 5 6 7 8 9]\n"
     ]
    },
    {
     "ename": "IndexError",
     "evalue": "boolean index did not match indexed array along dimension 0; dimension is 1 but corresponding boolean dimension is 5",
     "output_type": "error",
     "traceback": [
      "\u001b[1;31m---------------------------------------------------------------------------\u001b[0m",
      "\u001b[1;31mIndexError\u001b[0m                                Traceback (most recent call last)",
      "\u001b[1;32md:\\dataAcademy\\Week 2 assignment.ipynb Cell 10'\u001b[0m in \u001b[0;36m<module>\u001b[1;34m\u001b[0m\n\u001b[0;32m     <a href='vscode-notebook-cell:/d%3A/dataAcademy/Week%202%20assignment.ipynb#ch0000012?line=12'>13</a>\u001b[0m   \u001b[39melse\u001b[39;00m:\n\u001b[0;32m     <a href='vscode-notebook-cell:/d%3A/dataAcademy/Week%202%20assignment.ipynb#ch0000012?line=13'>14</a>\u001b[0m     filter_arr\u001b[39m.\u001b[39mappend(\u001b[39mTrue\u001b[39;00m)\n\u001b[1;32m---> <a href='vscode-notebook-cell:/d%3A/dataAcademy/Week%202%20assignment.ipynb#ch0000012?line=15'>16</a>\u001b[0m newarr \u001b[39m=\u001b[39m d[filter_arr]\n\u001b[0;32m     <a href='vscode-notebook-cell:/d%3A/dataAcademy/Week%202%20assignment.ipynb#ch0000012?line=17'>18</a>\u001b[0m \u001b[39mprint\u001b[39m(filter_arr)\n\u001b[0;32m     <a href='vscode-notebook-cell:/d%3A/dataAcademy/Week%202%20assignment.ipynb#ch0000012?line=18'>19</a>\u001b[0m \u001b[39mprint\u001b[39m(newarr)\n",
      "\u001b[1;31mIndexError\u001b[0m: boolean index did not match indexed array along dimension 0; dimension is 1 but corresponding boolean dimension is 5"
     ]
    }
   ],
   "source": [
    "a=np.array([1,2,3,4,5])\n",
    "b=np.array([4,5,6,7,8,9])\n",
    "print(b[0])\n",
    "print(\"array a=\",a)\n",
    "print(\"array b=\",b)\n",
    "d=np.array([1])\n",
    "e=np.array([2])\n",
    "filter_arr=[]\n",
    "for element in a:\n",
    "  # if the element is equal to b, dont append\n",
    "  if element == b[0]:\n",
    "    filter_arr.append(False)\n",
    "  else:\n",
    "    filter_arr.append(True)\n",
    "\n",
    "newarr = d[filter_arr]\n",
    "\n",
    "print(filter_arr)\n",
    "print(newarr)\n",
    "\n",
    "\n",
    "\n"
   ]
  },
  {
   "cell_type": "code",
   "execution_count": 91,
   "metadata": {},
   "outputs": [
    {
     "name": "stdout",
     "output_type": "stream",
     "text": [
      "False\n",
      "False\n"
     ]
    }
   ],
   "source": [
    "\n",
    "a1 = np.array([1,2,4,6,7])\n",
    "a2 = np.array([1,3,4,5,7])\n",
    "a3 = np.array([1,3,4.00001,5,7])\n",
    "\n",
    "print((a1==a2).all())\n",
    "print((a3==a2).all())"
   ]
  },
  {
   "cell_type": "code",
   "execution_count": 82,
   "metadata": {},
   "outputs": [
    {
     "name": "stdout",
     "output_type": "stream",
     "text": [
      "items 3 to 7: [4 5 6 7],  SUM IS : 22\n"
     ]
    }
   ],
   "source": []
  },
  {
   "cell_type": "code",
   "execution_count": 19,
   "metadata": {},
   "outputs": [
    {
     "name": "stdout",
     "output_type": "stream",
     "text": [
      "select a if you want to add \n",
      "    \"b if you want to subtract,\n",
      "    \"c if you want to divide\n",
      "    \"d if you want to multiply\n",
      "    \"e if you want to square\n",
      "a\n",
      "7\n"
     ]
    }
   ],
   "source": []
  },
  {
   "cell_type": "code",
   "execution_count": 33,
   "metadata": {},
   "outputs": [
    {
     "name": "stdout",
     "output_type": "stream",
     "text": [
      "select a if you want to add \n",
      "\"b if you want to subtract,\n",
      "\"c if you want to divide\n",
      "\"d if you want to multiply\n",
      "\"e if you want to square\n",
      "b\n",
      "-1\n",
      "i am here\n"
     ]
    }
   ],
   "source": [
    "\n"
   ]
  }
 ],
 "metadata": {
  "interpreter": {
   "hash": "bf18297ba29ab59974e3cde921359bf4732846305eb0ebd212cf3897d725727a"
  },
  "kernelspec": {
   "display_name": "Python 3.9.10 64-bit",
   "language": "python",
   "name": "python3"
  },
  "language_info": {
   "codemirror_mode": {
    "name": "ipython",
    "version": 3
   },
   "file_extension": ".py",
   "mimetype": "text/x-python",
   "name": "python",
   "nbconvert_exporter": "python",
   "pygments_lexer": "ipython3",
   "version": "3.9.10"
  },
  "orig_nbformat": 4
 },
 "nbformat": 4,
 "nbformat_minor": 2
}
